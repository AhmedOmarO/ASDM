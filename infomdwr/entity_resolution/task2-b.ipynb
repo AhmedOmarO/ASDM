{
 "cells": [
  {
   "cell_type": "code",
   "execution_count": null,
   "metadata": {},
   "outputs": [],
   "source": [
    "from LSH_functions import * \n",
    "def load_data(file_path, encoding='utf-8'):\n",
    "    \"\"\"Load data from a CSV file into a pandas DataFrame.\"\"\"\n",
    "\n",
    "    return pd.read_csv(file_path,encoding=encoding )"
   ]
  },
  {
   "cell_type": "code",
   "execution_count": null,
   "metadata": {},
   "outputs": [
    {
     "name": "stdout",
     "output_type": "stream",
     "text": [
      "ACM DataFrame:\n",
      "id                                                    304586\n",
      "title      The WASA2 object-oriented workflow management ...\n",
      "authors                      Gottfried Vossen, Mathias Weske\n",
      "venue         International Conference on Management of Data\n",
      "year                                                    1999\n",
      "Name: 0, dtype: object\n",
      "\n",
      "\n",
      "DBLP DataFrame:\n",
      "id                                  journals/sigmod/Mackay99\n",
      "title      Semantic Integration of Environmental Models f...\n",
      "authors                                      D. Scott Mackay\n",
      "venue                                          SIGMOD Record\n",
      "year                                                    1999\n",
      "Name: 0, dtype: object\n"
     ]
    }
   ],
   "source": [
    "ACM = load_data('../data/DBLP-ACM/ACM.csv')\n",
    "DBLP = load_data('../data/DBLP-ACM/DBLP2.csv',encoding='windows-1252')\n",
    "\n",
    "print(\"ACM DataFrame:\")\n",
    "print(ACM.iloc[0])\n",
    "print(\"\\n\")\n",
    "print(\"DBLP DataFrame:\")\n",
    "print(DBLP.iloc[0])  "
   ]
  },
  {
   "cell_type": "code",
   "execution_count": null,
   "metadata": {},
   "outputs": [],
   "source": [
    "\n",
    "## Remove the 'id' column from both DataFrames\n",
    "DBLP.drop(columns=['id'], inplace=True, errors='ignore')\n",
    "ACM.drop(columns=['id'], inplace=True, errors='ignore')"
   ]
  },
  {
   "cell_type": "markdown",
   "metadata": {},
   "source": [
    "### Concatenate the values in each record into one single string.\n"
   ]
  },
  {
   "cell_type": "code",
   "execution_count": null,
   "metadata": {},
   "outputs": [],
   "source": [
    "\n"
   ]
  },
  {
   "cell_type": "code",
   "execution_count": null,
   "metadata": {},
   "outputs": [],
   "source": [
    "ACM = ACM.apply(process_rows, axis=1)\n",
    "DBLP = DBLP.apply(process_rows, axis=1)"
   ]
  },
  {
   "cell_type": "markdown",
   "metadata": {},
   "source": [
    "### Combine the records from both tables into one big list as we did during the lab.\n"
   ]
  },
  {
   "cell_type": "code",
   "execution_count": null,
   "metadata": {},
   "outputs": [
    {
     "name": "stdout",
     "output_type": "stream",
     "text": [
      "Total number of records: 4910\n",
      "['the wasa2 object-oriented workflow management system gottfried vossen, mathias weske international conference on management of data 1999', 'a user-centered interface for querying distributed multimedia databases isabel f. cruz, kimberly m. james international conference on management of data 1999', 'world wide database-integrating the web, corba and databases athman bouguettaya, boualem benatallah, lily hendra, james beard, kevin smith, mourad quzzani international conference on management of data 1999', 'xml-based information mediation with mix chaitan baru, amarnath gupta, bertram lud&#228;scher, richard marciano, yannis papakonstantinou, pavel velikhov, vincent chu international conference on management of data 1999', 'the ccube constraint object-oriented database system alexander brodsky, victor e. segal, jia chen, paval a. exarkhopoulo international conference on management of data 1999']\n"
     ]
    }
   ],
   "source": [
    "records = ACM.tolist()\n",
    "records.extend(DBLP.tolist())\n",
    "print(f\"Total number of records: {len(records)}\")\n",
    "print(records[0:5])"
   ]
  },
  {
   "cell_type": "markdown",
   "metadata": {},
   "source": [
    "### Use the functions in the tutorials from lab 5 to compute the shingles, the minhash signature and the similarity.\n"
   ]
  },
  {
   "cell_type": "code",
   "execution_count": null,
   "metadata": {},
   "outputs": [
    {
     "name": "stdout",
     "output_type": "stream",
     "text": [
      "the number of records (documents):4910\n",
      "Number of vocabulary is:9238\n"
     ]
    },
    {
     "data": {
      "text/plain": [
       "(4910, 9238)"
      ]
     },
     "execution_count": 6,
     "metadata": {},
     "output_type": "execute_result"
    }
   ],
   "source": [
    "k = 3\n",
    "print(f\"the number of records (documents):{len(records)}\")\n",
    "shingles = []\n",
    "for record in records:\n",
    "    shingles.append(shingle(record,k))\n",
    "vocab = build_vocab(shingles)\n",
    "print(f\"Number of vocabulary is:{len(vocab)}\")\n",
    "shingles_1hot = []\n",
    "for shingle_set in shingles:\n",
    "    shingles_1hot.append(one_hot(shingle_set,vocab))\n",
    "shingles_1hot = np.stack(shingles_1hot)\n",
    "shingles_1hot.shape\n"
   ]
  },
  {
   "cell_type": "code",
   "execution_count": null,
   "metadata": {},
   "outputs": [
    {
     "name": "stdout",
     "output_type": "stream",
     "text": [
      "shape of signiture matrix: (4910, 100) shape of 1hot matrix: (4910, 9238) the reduction is: 92.38\n"
     ]
    }
   ],
   "source": [
    "minhash_arr =  get_minhash_arr(100,vocab)\n",
    "signatures = []\n",
    "for vector in shingles_1hot:\n",
    "    signatures.append(get_signature(minhash_arr,vector))\n",
    "signatures = np.stack(signatures)\n",
    "signatures.shape\n",
    "print(\"shape of signiture matrix:\",signatures.shape,\n",
    "       \"shape of 1hot matrix:\",shingles_1hot.shape,\n",
    "       \"the reduction is:\",shingles_1hot.shape[1]/signatures.shape[1] )\n"
   ]
  },
  {
   "cell_type": "markdown",
   "metadata": {},
   "source": [
    "Note: The biggest value of this approach is that it significantly reduces the dimensionality of the data, 1hot has 9k columns while signiture matrix has 100 column\n"
   ]
  },
  {
   "cell_type": "code",
   "execution_count": null,
   "metadata": {},
   "outputs": [],
   "source": [
    "# print(\"time comparison between jaccard and signiture similarity\")\n",
    "\n",
    "# %timeit jaccard_similarity(shingles[2],shingles[3])\n",
    "# %timeit compute_signature_similarity(signatures[2],signatures[3])"
   ]
  },
  {
   "cell_type": "code",
   "execution_count": null,
   "metadata": {},
   "outputs": [
    {
     "name": "stderr",
     "output_type": "stream",
     "text": [
      "100%|██████████| 500/500 [00:02<00:00, 239.12it/s]\n"
     ]
    },
    {
     "data": {
      "text/html": [
       "<div>\n",
       "<style scoped>\n",
       "    .dataframe tbody tr th:only-of-type {\n",
       "        vertical-align: middle;\n",
       "    }\n",
       "\n",
       "    .dataframe tbody tr th {\n",
       "        vertical-align: top;\n",
       "    }\n",
       "\n",
       "    .dataframe thead tr th {\n",
       "        text-align: left;\n",
       "    }\n",
       "\n",
       "    .dataframe thead tr:last-of-type th {\n",
       "        text-align: right;\n",
       "    }\n",
       "</style>\n",
       "<table border=\"1\" class=\"dataframe\">\n",
       "  <thead>\n",
       "    <tr>\n",
       "      <th></th>\n",
       "      <th colspan=\"11\" halign=\"left\">count</th>\n",
       "    </tr>\n",
       "    <tr>\n",
       "      <th>signiture</th>\n",
       "      <th>0.0</th>\n",
       "      <th>0.1</th>\n",
       "      <th>0.2</th>\n",
       "      <th>0.3</th>\n",
       "      <th>0.4</th>\n",
       "      <th>0.5</th>\n",
       "      <th>0.6</th>\n",
       "      <th>0.7</th>\n",
       "      <th>0.8</th>\n",
       "      <th>0.9</th>\n",
       "      <th>1.0</th>\n",
       "    </tr>\n",
       "    <tr>\n",
       "      <th>jaccard</th>\n",
       "      <th></th>\n",
       "      <th></th>\n",
       "      <th></th>\n",
       "      <th></th>\n",
       "      <th></th>\n",
       "      <th></th>\n",
       "      <th></th>\n",
       "      <th></th>\n",
       "      <th></th>\n",
       "      <th></th>\n",
       "      <th></th>\n",
       "    </tr>\n",
       "  </thead>\n",
       "  <tbody>\n",
       "    <tr>\n",
       "      <th>0.0</th>\n",
       "      <td>59234.0</td>\n",
       "      <td>13618.0</td>\n",
       "      <td>4.0</td>\n",
       "      <td>0.0</td>\n",
       "      <td>0.0</td>\n",
       "      <td>0.0</td>\n",
       "      <td>0.0</td>\n",
       "      <td>0.0</td>\n",
       "      <td>0.0</td>\n",
       "      <td>0.0</td>\n",
       "      <td>0.0</td>\n",
       "    </tr>\n",
       "    <tr>\n",
       "      <th>0.1</th>\n",
       "      <td>30196.0</td>\n",
       "      <td>117128.0</td>\n",
       "      <td>14118.0</td>\n",
       "      <td>16.0</td>\n",
       "      <td>0.0</td>\n",
       "      <td>0.0</td>\n",
       "      <td>0.0</td>\n",
       "      <td>0.0</td>\n",
       "      <td>0.0</td>\n",
       "      <td>0.0</td>\n",
       "      <td>0.0</td>\n",
       "    </tr>\n",
       "    <tr>\n",
       "      <th>0.2</th>\n",
       "      <td>12.0</td>\n",
       "      <td>2112.0</td>\n",
       "      <td>9194.0</td>\n",
       "      <td>1532.0</td>\n",
       "      <td>24.0</td>\n",
       "      <td>0.0</td>\n",
       "      <td>0.0</td>\n",
       "      <td>0.0</td>\n",
       "      <td>0.0</td>\n",
       "      <td>0.0</td>\n",
       "      <td>0.0</td>\n",
       "    </tr>\n",
       "    <tr>\n",
       "      <th>0.3</th>\n",
       "      <td>0.0</td>\n",
       "      <td>0.0</td>\n",
       "      <td>330.0</td>\n",
       "      <td>1430.0</td>\n",
       "      <td>284.0</td>\n",
       "      <td>0.0</td>\n",
       "      <td>0.0</td>\n",
       "      <td>0.0</td>\n",
       "      <td>0.0</td>\n",
       "      <td>0.0</td>\n",
       "      <td>0.0</td>\n",
       "    </tr>\n",
       "    <tr>\n",
       "      <th>0.4</th>\n",
       "      <td>0.0</td>\n",
       "      <td>0.0</td>\n",
       "      <td>0.0</td>\n",
       "      <td>12.0</td>\n",
       "      <td>70.0</td>\n",
       "      <td>18.0</td>\n",
       "      <td>0.0</td>\n",
       "      <td>0.0</td>\n",
       "      <td>0.0</td>\n",
       "      <td>0.0</td>\n",
       "      <td>0.0</td>\n",
       "    </tr>\n",
       "    <tr>\n",
       "      <th>0.5</th>\n",
       "      <td>0.0</td>\n",
       "      <td>0.0</td>\n",
       "      <td>0.0</td>\n",
       "      <td>0.0</td>\n",
       "      <td>0.0</td>\n",
       "      <td>14.0</td>\n",
       "      <td>4.0</td>\n",
       "      <td>0.0</td>\n",
       "      <td>0.0</td>\n",
       "      <td>0.0</td>\n",
       "      <td>0.0</td>\n",
       "    </tr>\n",
       "    <tr>\n",
       "      <th>0.6</th>\n",
       "      <td>0.0</td>\n",
       "      <td>0.0</td>\n",
       "      <td>0.0</td>\n",
       "      <td>0.0</td>\n",
       "      <td>4.0</td>\n",
       "      <td>2.0</td>\n",
       "      <td>14.0</td>\n",
       "      <td>0.0</td>\n",
       "      <td>0.0</td>\n",
       "      <td>0.0</td>\n",
       "      <td>0.0</td>\n",
       "    </tr>\n",
       "    <tr>\n",
       "      <th>0.7</th>\n",
       "      <td>0.0</td>\n",
       "      <td>0.0</td>\n",
       "      <td>0.0</td>\n",
       "      <td>0.0</td>\n",
       "      <td>0.0</td>\n",
       "      <td>0.0</td>\n",
       "      <td>4.0</td>\n",
       "      <td>10.0</td>\n",
       "      <td>4.0</td>\n",
       "      <td>0.0</td>\n",
       "      <td>0.0</td>\n",
       "    </tr>\n",
       "    <tr>\n",
       "      <th>0.8</th>\n",
       "      <td>0.0</td>\n",
       "      <td>0.0</td>\n",
       "      <td>0.0</td>\n",
       "      <td>0.0</td>\n",
       "      <td>0.0</td>\n",
       "      <td>0.0</td>\n",
       "      <td>0.0</td>\n",
       "      <td>2.0</td>\n",
       "      <td>14.0</td>\n",
       "      <td>0.0</td>\n",
       "      <td>0.0</td>\n",
       "    </tr>\n",
       "    <tr>\n",
       "      <th>0.9</th>\n",
       "      <td>0.0</td>\n",
       "      <td>0.0</td>\n",
       "      <td>0.0</td>\n",
       "      <td>0.0</td>\n",
       "      <td>0.0</td>\n",
       "      <td>0.0</td>\n",
       "      <td>0.0</td>\n",
       "      <td>0.0</td>\n",
       "      <td>2.0</td>\n",
       "      <td>6.0</td>\n",
       "      <td>0.0</td>\n",
       "    </tr>\n",
       "    <tr>\n",
       "      <th>1.0</th>\n",
       "      <td>0.0</td>\n",
       "      <td>0.0</td>\n",
       "      <td>0.0</td>\n",
       "      <td>0.0</td>\n",
       "      <td>0.0</td>\n",
       "      <td>0.0</td>\n",
       "      <td>0.0</td>\n",
       "      <td>0.0</td>\n",
       "      <td>0.0</td>\n",
       "      <td>10.0</td>\n",
       "      <td>578.0</td>\n",
       "    </tr>\n",
       "  </tbody>\n",
       "</table>\n",
       "</div>"
      ],
      "text/plain": [
       "             count                                                            \\\n",
       "signiture      0.0       0.1      0.2     0.3    0.4   0.5   0.6   0.7   0.8   \n",
       "jaccard                                                                        \n",
       "0.0        59234.0   13618.0      4.0     0.0    0.0   0.0   0.0   0.0   0.0   \n",
       "0.1        30196.0  117128.0  14118.0    16.0    0.0   0.0   0.0   0.0   0.0   \n",
       "0.2           12.0    2112.0   9194.0  1532.0   24.0   0.0   0.0   0.0   0.0   \n",
       "0.3            0.0       0.0    330.0  1430.0  284.0   0.0   0.0   0.0   0.0   \n",
       "0.4            0.0       0.0      0.0    12.0   70.0  18.0   0.0   0.0   0.0   \n",
       "0.5            0.0       0.0      0.0     0.0    0.0  14.0   4.0   0.0   0.0   \n",
       "0.6            0.0       0.0      0.0     0.0    4.0   2.0  14.0   0.0   0.0   \n",
       "0.7            0.0       0.0      0.0     0.0    0.0   0.0   4.0  10.0   4.0   \n",
       "0.8            0.0       0.0      0.0     0.0    0.0   0.0   0.0   2.0  14.0   \n",
       "0.9            0.0       0.0      0.0     0.0    0.0   0.0   0.0   0.0   2.0   \n",
       "1.0            0.0       0.0      0.0     0.0    0.0   0.0   0.0   0.0   0.0   \n",
       "\n",
       "                        \n",
       "signiture   0.9    1.0  \n",
       "jaccard                 \n",
       "0.0         0.0    0.0  \n",
       "0.1         0.0    0.0  \n",
       "0.2         0.0    0.0  \n",
       "0.3         0.0    0.0  \n",
       "0.4         0.0    0.0  \n",
       "0.5         0.0    0.0  \n",
       "0.6         0.0    0.0  \n",
       "0.7         0.0    0.0  \n",
       "0.8         0.0    0.0  \n",
       "0.9         6.0    0.0  \n",
       "1.0        10.0  578.0  "
      ]
     },
     "execution_count": 9,
     "metadata": {},
     "output_type": "execute_result"
    },
    {
     "data": {
      "image/png": "[encoded data removed]",
      "text/plain": [
       "<Figure size 640x480 with 1 Axes>"
      ]
     },
     "metadata": {},
     "output_type": "display_data"
    }
   ],
   "source": [
    "## Side code to compute the similarity for n_sample pairs and plot them\n",
    "import tqdm as tqdm\n",
    "n = len(shingles)\n",
    "n_sample = 500 \n",
    "sampl = np.random.uniform(low=0, high=n, size=(n_sample,)).astype(int)\n",
    "np.random\n",
    "df = pd.DataFrame(columns=['jaccard','signiture'])\n",
    "df_l = []\n",
    "for shingle in tqdm.tqdm(sampl):\n",
    "    for i in sampl:\n",
    "        df_l.extend([{'jaccard': jaccard_similarity(shingles[i],shingles[shingle]), \n",
    "                    'signiture': compute_signature_similarity(signatures[i],signatures[shingle])}])\n",
    "df = pd.DataFrame(df_l)\n",
    "df.plot.scatter(x='jaccard',y='signiture',title=\"Jaccard vs Signiture similarity\",s=2)\n",
    "pd.DataFrame(df.round(1).value_counts()).reset_index().pivot(index='jaccard',columns='signiture').fillna(0)"
   ]
  },
  {
   "cell_type": "code",
   "execution_count": null,
   "metadata": {},
   "outputs": [
    {
     "data": {
      "text/plain": [
       "1448"
      ]
     },
     "execution_count": 10,
     "metadata": {},
     "output_type": "execute_result"
    }
   ],
   "source": [
    "b = 10  # number of buckets\n",
    "lsh = LSH(b)\n",
    "for signature in signatures:\n",
    "    lsh.add_hash(signature)\n",
    "candidate_pairs = lsh.check_candidates()\n",
    "len(candidate_pairs)\n"
   ]
  },
  {
   "cell_type": "code",
   "execution_count": null,
   "metadata": {},
   "outputs": [
    {
     "name": "stdout",
     "output_type": "stream",
     "text": [
      "Candidate similar sentence are:\n",
      "architecture of oracle parallel server roger bamford, d. butler, boris klots, n. macnaughton very large data bases 1998\n",
      "architecture of oracle parallel server d. butler, boris klots, roger bamford, n. macnaughton vldb 1998\n",
      "==========\n",
      "Candidate similar sentence are:\n",
      "book reviews karl aberer acm sigmod record 2002\n",
      "book review column karl aberer acm sigmod record 2002\n",
      "==========\n",
      "Candidate similar sentence are:\n",
      "editor's notes ling liu sigmod record 2002\n",
      "editor's notes ling liu sigmod record 2003\n",
      "==========\n",
      "Candidate similar sentence are:\n",
      "on completeness of historical relational query languages james clifford, albert croker, alexander tuzhilin acm transactions on database systems (tods) 1994\n",
      "on completeness of historical relational query languages james clifford, albert croker, alexander tuzhilin acm trans. database syst. 1994\n",
      "==========\n",
      "Candidate similar sentence are:\n",
      "the database group at university of hagen gunter schlageter, thomas berkel, eberhard heuel, silke mittrach, andreas scherer, wolfgang wilkes acm sigmod record 1995\n",
      "the database group at university of hagen (fernuniversitaet) silke mittrach, gunter schlageter, thomas berkel, andreas scherer, eberhard heuel, wolfgang wilkes sigmod record 1995\n",
      "==========\n"
     ]
    }
   ],
   "source": [
    "for candidate in list(candidate_pairs)[-5:\n",
    "                                       ]:\n",
    "    print(\"Candidate similar sentence are:\")\n",
    "    print(records[candidate[0]])\n",
    "    print(records[candidate[1]])\n",
    "    print(\"=\"*10)\n"
   ]
  },
  {
   "cell_type": "code",
   "execution_count": null,
   "metadata": {},
   "outputs": [],
   "source": [
    "# ## example on how this works \n",
    "\n",
    "# signatures_examples = np.array([[1,2,3,4,5,6],\n",
    "#                                 [1,2,3,4,5,7],\n",
    "#                                 [10,20,30,40,50,60]])\n",
    "# b = 3\n",
    "# lsh_example = LSH(b)\n",
    "# for index ,signatures_example in enumerate(signatures_examples):\n",
    "#     print(index, \" split into buckets > \", lsh_example.make_subvecs(signatures_example).tolist())\n",
    "\n",
    "# print(\"-\"*20)\n",
    "\n",
    "# for signatures_example in signatures_examples:\n",
    "#     lsh_example.add_hash(signatures_example)\n",
    "# print(lsh_example.buckets)\n",
    "\n",
    "# len(lsh_example.check_candidates())\n"
   ]
  },
  {
   "cell_type": "code",
   "execution_count": null,
   "metadata": {},
   "outputs": [],
   "source": []
  }
 ],
 "metadata": {
  "kernelspec": {
   "display_name": "Python (venv)",
   "language": "python",
   "name": "venv"
  },
  "language_info": {
   "codemirror_mode": {
    "name": "ipython",
    "version": 3
   },
   "file_extension": ".py",
   "mimetype": "text/x-python",
   "name": "python",
   "nbconvert_exporter": "python",
   "pygments_lexer": "ipython3",
   "version": "3.13.2"
  }
 },
 "nbformat": 4,
 "nbformat_minor": 2
}
